{
 "cells": [
  {
   "cell_type": "code",
   "execution_count": null,
   "metadata": {},
   "outputs": [],
   "source": [
    "from io import BytesIO\n",
    "import hashlib\n",
    "import random\n",
    "\n",
    "import util\n",
    "from test_framework.key import generate_schnorr_nonce, ECKey, ECPubKey, SECP256K1_FIELD_SIZE\n",
    "from test_framework.musig import aggregate_musig_signatures, aggregate_schnorr_nonces, generate_musig_key, sign_musig\n",
    "from test_framework.script import TapLeaf, TapTree, TaprootSignatureHash\n",
    "from test_framework.address import program_to_witness\n",
    "from test_framework.messages import CTransaction, COutPoint, CTxIn, CTxOut, CScriptWitness, CTxInWitness\n",
    "from test_framework.util import assert_equal\n"
   ]
  },
  {
   "cell_type": "markdown",
   "metadata": {},
   "source": [
    "# 3.2  Vault with Claw-back Mechanism\n",
    "\n",
    "In this case-study, we consider how we can use a taproot output and pre-signed transactions to create a simple [claw-back](https://lists.linuxfoundation.org/pipermail/bitcoin-dev/2019-August/017229.html) vault design.\n",
    "\n",
    "![test](images/vault0.jpg)\n",
    "\n",
    "Vault Output:\n",
    "* `2/2 multisig`\n",
    "    * Signed by 2 ephemeral keys.\n",
    "    * Spendable by pre-signed delayed-spend transaction child.\n",
    "\n",
    "\n",
    "Delayed Spending Output:\n",
    "* `3/5 multisig` \n",
    "    * Spendable by wallet keys after 30 days.\n",
    "\n",
    "* `Re-vaulting Tx Musig Public Key` \n",
    "    * Signed with ephemeral private key\n",
    "    * Spendable by re-vaulting transaction after 10 days.\n",
    "\n",
    "* `4/7 multisig` \n",
    "    * Spendable by wallet keys after 1 days.\n",
    "\n",
    "* `Ragequite Public Key` \n",
    "    * Spendable by \"ragequit\" key.\n",
    " \n",
    " \n",
    "Re-vaulting Transaction Output:\n",
    "* _Same as Vault Output_\n",
    "* _Also requires pre-signed delayed-spend transaction child._\n",
    "\n",
    "\n",
    "***Other Requirements***\n",
    "\n",
    "* No unused public keys should be revealed during spending.\n",
    "* Only pre-signed transactions are capable of signing with MuSig.\n"
   ]
  },
  {
   "cell_type": "markdown",
   "metadata": {},
   "source": [
    "___\n",
    "\n",
    "## TODO: Build the claw-back vault with Taproot.\n",
    "* Implement the clawback vault involving multiple pre-signed transactions. \n",
    "* Test the spending paths of the delayed transaction output.\n",
    "   "
   ]
  },
  {
   "cell_type": "markdown",
   "metadata": {},
   "source": [
    "**Build your taproot output.**\n",
    "\n",
    "* Construct the Taptree according to the spending paths and their likelihoods."
   ]
  },
  {
   "cell_type": "code",
   "execution_count": null,
   "metadata": {},
   "outputs": [],
   "source": [
    "# Generate Vault TX output keypairs.\n",
    "\n",
    "# Generate Delayed Vault TX Output Keypairs.\n",
    "\n",
    "# Generate Revaulting TX Output Keypairs.\n",
    "\n",
    "# Generate Output Keypairs of the Revaulting TX child.\n",
    "\n",
    "# Build tapscripts & taproots\n",
    "\n",
    "# WIP\n",
    "\n",
    "# Construct Segwit Address.\n",
    "tapscript, taptweak, control_map = multisig_taproot.construct()\n",
    "output_pubkey = musig_ABC.tweak_add(taptweak) \n",
    "output_pubkey_b = output_pubkey.get_bytes()\n",
    "taproot_pubkey_v1 = bytes([output_pubkey_b[0] & 1]) + output_pubkey_b[1:]\n",
    "segwit_address = program_to_witness(1, taproot_pubkey_v1)\n",
    "print(\"\\nSegwit Address:\", segwit_address)\n"
   ]
  },
  {
   "cell_type": "markdown",
   "metadata": {},
   "source": [
    "**Test the revaulting spending path.**\n",
    "\n",
    "* Construct the spending transaction and test the tx validity with the `testmempoolaccept`.\n",
    "* Demonstrate the delays work intended.\n",
    "* Compute and compare the weight of each spend."
   ]
  },
  {
   "cell_type": "markdown",
   "metadata": {},
   "source": [
    "***Start TestNodes***"
   ]
  },
  {
   "cell_type": "code",
   "execution_count": null,
   "metadata": {},
   "outputs": [],
   "source": [
    "test = util.TestWrapper()\n",
    "test.setup(num_nodes=1)\n"
   ]
  },
  {
   "cell_type": "markdown",
   "metadata": {},
   "source": [
    "***Generate Wallet Balance***"
   ]
  },
  {
   "cell_type": "code",
   "execution_count": null,
   "metadata": {},
   "outputs": [],
   "source": [
    "test.nodes[0].generate(101)\n",
    "balance = test.nodes[0].getbalance()\n",
    "print(balance)\n"
   ]
  },
  {
   "cell_type": "markdown",
   "metadata": {},
   "source": [
    "***Send funds from the wallet to the taproot output (Segwit Address).***"
   ]
  },
  {
   "cell_type": "code",
   "execution_count": null,
   "metadata": {},
   "outputs": [],
   "source": [
    "# Send funds to taproot output.\n",
    "txid = test.nodes[0].sendtoaddress(segwit_address, 0.5)\n",
    "print(\"Funding tx:\", txid)\n",
    "\n",
    "# Deserialize wallet transaction.\n",
    "tx = CTransaction()\n",
    "tx_hex = test.nodes[0].getrawtransaction(txid)\n",
    "tx.deserialize(BytesIO(bytes.fromhex(tx_hex)))\n",
    "tx.rehash()\n",
    "\n",
    "# Determine Output Index of Segwit V1 Output.\n",
    "# (Wallet places change output at a random txout index.)\n",
    "outputs = iter(tx.vout)\n",
    "taproot_output = next(outputs)\n",
    "taproot_index = 0\n",
    "\n",
    "while (taproot_output.scriptPubKey != tapscript):\n",
    "    taproot_output = next(outputs)\n",
    "    taproot_index += 1\n",
    "taproot_value = taproot_output.nValue\n"
   ]
  },
  {
   "cell_type": "markdown",
   "metadata": {},
   "source": [
    "***Test taproot spend for all script paths***"
   ]
  },
  {
   "cell_type": "code",
   "execution_count": null,
   "metadata": {},
   "outputs": [],
   "source": [
    "# WIP"
   ]
  },
  {
   "cell_type": "markdown",
   "metadata": {},
   "source": [
    "***Shutdown TestNode***"
   ]
  },
  {
   "cell_type": "code",
   "execution_count": null,
   "metadata": {},
   "outputs": [],
   "source": [
    "test.shutdown()\n"
   ]
  }
 ],
 "metadata": {
  "kernelspec": {
   "display_name": "Python 3",
   "language": "python",
   "name": "python3"
  },
  "language_info": {
   "codemirror_mode": {
    "name": "ipython",
    "version": 3
   },
   "file_extension": ".py",
   "mimetype": "text/x-python",
   "name": "python",
   "nbconvert_exporter": "python",
   "pygments_lexer": "ipython3",
   "version": "3.6.5"
  }
 },
 "nbformat": 4,
 "nbformat_minor": 2
}
